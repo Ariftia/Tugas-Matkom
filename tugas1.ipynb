{
 "cells": [
  {
   "cell_type": "code",
   "execution_count": null,
   "metadata": {},
   "outputs": [],
   "source": [
    "import scipy.special\n",
    "import math\n",
    "\n",
    "# Metode scipy\n",
    "def gamma_scipy(n):\n",
    "    return scipy.special.gamma(n)\n",
    "\n",
    "# Metode rekursif\n",
    "def gamma_recursive(n):\n",
    "    if n == 1:\n",
    "        return 1\n",
    "    else:\n",
    "        return (n - 1) * gamma_recursive(n - 1)\n",
    "\n",
    "# Metode summation (menggunakan deret Stirling)\n",
    "def arif(n):\n",
    "    sum = 0\n",
    "    for i in range (1,n):\n",
    "        sum += math.log(i)\n",
    "    return math.exp(sum)\n",
    "\n",
    "\n",
    "# Nilai yang akan dihitung\n",
    "n = 25\n",
    "\n",
    "# Hasil dari ketiga metode\n",
    "result_scipy = gamma_scipy(n)\n",
    "result_recursive = gamma_recursive(n)\n",
    "result_summation = arif(n)\n",
    "\n",
    "print(f\"Gamma({n}) menggunakan metode rekursif: {result_recursive}\")\n",
    "print(f\"Gamma({n}) menggunakan metode summation: {result_summation}\")\n",
    "print(f\"Gamma({n}) menggunakan metode scipy: {result_scipy}\")\n",
    "print(f\"Error metode rekursif: {abs(result_scipy - result_recursive)}\")\n",
    "print(f\"Error metode summation: {abs(result_scipy - result_summation)}\")"
   ]
  },
  {
   "cell_type": "code",
   "execution_count": null,
   "metadata": {},
   "outputs": [],
   "source": [
    "import numpy as np\n",
    "\n",
    "# Define the matrix\n",
    "arif = np.zeros((6, 15))\n",
    "\n",
    "# Define the pattern for each letter\n",
    "# 'a'\n",
    "arif[1:5, 1] = 1\n",
    "arif[1, 2] = 1\n",
    "arif[3, 2] = 1\n",
    "arif[1:5, 3] = 1\n",
    "\n",
    "# 'r'\n",
    "arif[1:5, 5] = 1\n",
    "arif[1, 6:8] = 1\n",
    "arif[2, 7] = 1\n",
    "arif[3, 6] = 1\n",
    "arif[4, 7] = 1\n",
    "\n",
    "# 'i'\n",
    "arif[1:5, 9] = 1\n",
    "\n",
    "# 'f'\n",
    "arif[1:5, 11] = 1\n",
    "arif[1, 12:14] = 1\n",
    "arif[3, 12] = 1\n",
    "\n",
    "# Print the matrix \n",
    "for row in arif:\n",
    "    print(' '.join('\\033[1;37;41m1\\033[0m' if elem == 1 else '0' for elem in row))"
   ]
  }
 ],
 "metadata": {
  "kernelspec": {
   "display_name": "Python 3",
   "language": "python",
   "name": "python3"
  },
  "language_info": {
   "codemirror_mode": {
    "name": "ipython",
    "version": 3
   },
   "file_extension": ".py",
   "mimetype": "text/x-python",
   "name": "python",
   "nbconvert_exporter": "python",
   "pygments_lexer": "ipython3",
   "version": "3.13.2"
  }
 },
 "nbformat": 4,
 "nbformat_minor": 2
}

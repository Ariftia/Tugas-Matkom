{
 "cells": [
  {
   "cell_type": "markdown",
   "metadata": {},
   "source": [
    "## Latihan\n",
    "\n",
    "Selesaikan nilai Energi melalui persamaan nonlinier 26 menggunakan metode Newton Raphson:\n",
    "1. Plot fungsi E dan gunakan untuk memperkirakan tebakan awal\n",
    "2. Selesaikan fungsi E\n",
    "\n",
    "$$\\frac{2\\epsilon}{\\sqrt{\\gamma^2-\\epsilon^2}}\\cos(2\\epsilon) + \\bigg[1+\\frac{\\epsilon^2}{\\gamma^2-\\epsilon^2}\\bigg]\\sin(2\\epsilon)=0$$\n",
    "\n",
    "dengan $\\epsilon = k\\sqrt{E}$, $\\gamma = k\\sqrt{V_0}$, dan $k = \\sqrt{\\frac{2ma^2}{\\hbar^2}} = 1$ (asumsi)"
   ]
  },
  {
   "cell_type": "code",
   "execution_count": 14,
   "metadata": {},
   "outputs": [],
   "source": [
    "import numpy as np\n",
    "import sympy as sp\n",
    "import matplotlib.pyplot as plt\n",
    "from sympy import *\n",
    "x, y = symbols('x y')\n",
    "init_printing(use_unicode=True)\n",
    "#Fungsi E dengan \\epsilon = x dan \\gamma = y\n",
    "def fungsi(x,y):\n",
    "  return (2*x*np.cos(2*x))/(np.sqrt((y**2)-(x**2))) + (1+x**2/((y**2)-(x**2)))*np.sin(2*x)\n",
    "#Syarat awal\n",
    "y = 7\n"
   ]
  },
  {
   "cell_type": "code",
   "execution_count": 15,
   "metadata": {},
   "outputs": [
    {
     "name": "stdout",
     "output_type": "stream",
     "text": [
      "Batas nilai x adalah [-6.999, 6.999]\n"
     ]
    },
    {
     "ename": "TypeError",
     "evalue": "loop of ufunc does not support argument 0 of type Add which has no callable sqrt method",
     "output_type": "error",
     "traceback": [
      "\u001b[1;31m---------------------------------------------------------------------------\u001b[0m",
      "\u001b[1;31mAttributeError\u001b[0m                            Traceback (most recent call last)",
      "\u001b[1;31mAttributeError\u001b[0m: 'Add' object has no attribute 'sqrt'",
      "\nThe above exception was the direct cause of the following exception:\n",
      "\u001b[1;31mTypeError\u001b[0m                                 Traceback (most recent call last)",
      "Cell \u001b[1;32mIn[15], line 22\u001b[0m\n\u001b[0;32m     20\u001b[0m \u001b[38;5;66;03m#Operasi NR\u001b[39;00m\n\u001b[0;32m     21\u001b[0m \u001b[38;5;28;01mfor\u001b[39;00m i \u001b[38;5;129;01min\u001b[39;00m \u001b[38;5;28mrange\u001b[39m(N):\n\u001b[1;32m---> 22\u001b[0m   x_n1 \u001b[38;5;241m=\u001b[39m x_n \u001b[38;5;241m-\u001b[39m (\u001b[43mfungsi\u001b[49m\u001b[43m(\u001b[49m\u001b[43mx_n\u001b[49m\u001b[43m,\u001b[49m\u001b[43my\u001b[49m\u001b[43m)\u001b[49m\u001b[38;5;241m/\u001b[39mf_prime(x_n))\n\u001b[0;32m     24\u001b[0m   \u001b[38;5;66;03m#Pengecekan apakah sudah memasuki nilai toleransi\u001b[39;00m\n\u001b[0;32m     25\u001b[0m   \u001b[38;5;28;01mif\u001b[39;00m \u001b[38;5;28mabs\u001b[39m(x_n1\u001b[38;5;241m-\u001b[39mx_n) \u001b[38;5;241m<\u001b[39m tol:\n",
      "Cell \u001b[1;32mIn[14], line 9\u001b[0m, in \u001b[0;36mfungsi\u001b[1;34m(x, y)\u001b[0m\n\u001b[0;32m      8\u001b[0m \u001b[38;5;28;01mdef\u001b[39;00m\u001b[38;5;250m \u001b[39m\u001b[38;5;21mfungsi\u001b[39m(x,y):\n\u001b[1;32m----> 9\u001b[0m   \u001b[38;5;28;01mreturn\u001b[39;00m (\u001b[38;5;241m2\u001b[39m\u001b[38;5;241m*\u001b[39mx\u001b[38;5;241m*\u001b[39mnp\u001b[38;5;241m.\u001b[39mcos(\u001b[38;5;241m2\u001b[39m\u001b[38;5;241m*\u001b[39mx))\u001b[38;5;241m/\u001b[39m(\u001b[43mnp\u001b[49m\u001b[38;5;241;43m.\u001b[39;49m\u001b[43msqrt\u001b[49m\u001b[43m(\u001b[49m\u001b[43m(\u001b[49m\u001b[43my\u001b[49m\u001b[38;5;241;43m*\u001b[39;49m\u001b[38;5;241;43m*\u001b[39;49m\u001b[38;5;241;43m2\u001b[39;49m\u001b[43m)\u001b[49m\u001b[38;5;241;43m-\u001b[39;49m\u001b[43m(\u001b[49m\u001b[43mx\u001b[49m\u001b[38;5;241;43m*\u001b[39;49m\u001b[38;5;241;43m*\u001b[39;49m\u001b[38;5;241;43m2\u001b[39;49m\u001b[43m)\u001b[49m\u001b[43m)\u001b[49m) \u001b[38;5;241m+\u001b[39m (\u001b[38;5;241m1\u001b[39m\u001b[38;5;241m+\u001b[39mx\u001b[38;5;241m*\u001b[39m\u001b[38;5;241m*\u001b[39m\u001b[38;5;241m2\u001b[39m\u001b[38;5;241m/\u001b[39m((y\u001b[38;5;241m*\u001b[39m\u001b[38;5;241m*\u001b[39m\u001b[38;5;241m2\u001b[39m)\u001b[38;5;241m-\u001b[39m(x\u001b[38;5;241m*\u001b[39m\u001b[38;5;241m*\u001b[39m\u001b[38;5;241m2\u001b[39m)))\u001b[38;5;241m*\u001b[39mnp\u001b[38;5;241m.\u001b[39msin(\u001b[38;5;241m2\u001b[39m\u001b[38;5;241m*\u001b[39mx)\n",
      "\u001b[1;31mTypeError\u001b[0m: loop of ufunc does not support argument 0 of type Add which has no callable sqrt method"
     ]
    }
   ],
   "source": [
    "x, y = sp.symbols('x y')\n",
    "#Turunan Fungsi\n",
    "f = (2*x*sp.cos(2*x))/(sp.sqrt((y**2)-(x**2))) + (1+x**2/((y**2)-(x**2)))*sp.sin(2*x)\n",
    "f_prime = sp.lambdify(x, sp.diff(f, x), 'numpy')\n",
    "\n",
    "#Metode Newton-Raphson\n",
    "\n",
    "#Peringatan batas persamaan\n",
    "print(f\"Batas nilai x adalah [{xmin}, {xmax}]\")\n",
    "\n",
    "#Nilai Awal\n",
    "x_n = float(input(\"Masukkan nilai x awal: \"))\n",
    "\n",
    "#Iterasi\n",
    "N = int(input(\"Masukkan jumlah iterasi: \"))\n",
    "\n",
    "#Nilai Toleransi\n",
    "tol = 1e-8\n",
    "\n",
    "#Operasi NR\n",
    "for i in range(N):\n",
    "  x_n1 = x_n - (fungsi(x_n,y)/f_prime(x_n))\n",
    "\n",
    "  #Pengecekan apakah sudah memasuki nilai toleransi\n",
    "  if abs(x_n1-x_n) < tol:\n",
    "    print(f\"Iterasi ke-{i+1}: x = {x_n1}\")\n",
    "    break\n",
    "\n",
    "  #Update titik\n",
    "  x_n = x_n1\n",
    "\n",
    "  #Print\n",
    "  print(f\"Iterasi ke-{i+1}: x = {x_n}\")\n",
    "\n"
   ]
  },
  {
   "cell_type": "code",
   "execution_count": null,
   "metadata": {},
   "outputs": [],
   "source": []
  }
 ],
 "metadata": {
  "kernelspec": {
   "display_name": "Python 3",
   "language": "python",
   "name": "python3"
  },
  "language_info": {
   "codemirror_mode": {
    "name": "ipython",
    "version": 3
   },
   "file_extension": ".py",
   "mimetype": "text/x-python",
   "name": "python",
   "nbconvert_exporter": "python",
   "pygments_lexer": "ipython3",
   "version": "3.13.2"
  }
 },
 "nbformat": 4,
 "nbformat_minor": 2
}
